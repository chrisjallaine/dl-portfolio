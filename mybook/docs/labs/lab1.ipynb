{
 "cells": [
  {
   "cell_type": "markdown",
   "id": "92760da0",
   "metadata": {},
   "source": [
    " ## Foundational Concept of Deep Learning: Lab1\n",
    "\n"
   ]
  },
  {
   "cell_type": "code",
   "execution_count": 16,
   "id": "5bf8122e",
   "metadata": {},
   "outputs": [],
   "source": [
    "#-----------DATA ANALYTICS --------\n"
   ]
  },
  {
   "cell_type": "markdown",
   "id": "7f1ad386",
   "metadata": {},
   "source": [
    "## Data Analytics <br>  \n",
    "\n",
    "<div style=\"border: 2px solid #4CAF50; background-color: #e8f5e9; padding: 15px; border-radius: 10px; margin-top: 10px; margin-bottom: 10px;\">\n",
    "In this activity, we apply the four main types of data analytics—<strong>Descriptive, Diagnostic, Predictive, and Prescriptive</strong> —to gaming and esports scenarios.  \n",
    "We start by examining what has happened in the past <strong>>Descriptive</strong>> and identifying reasons behind observed outcomes (<strong>Diagnostic</strong>).  \n",
    "Next, we explore <strong>Predictive analytics</strong> to forecast future events such as team performance or hero popularity.  \n",
    "Finally, we use <strong>Prescriptive analytics</strong> to recommend strategies for players, teams, or developers that can improve gameplay and engagement.\n",
    "</div>  \n"
   ]
  },
  {
   "cell_type": "markdown",
   "id": "91485390",
   "metadata": {},
   "source": [
    "### Laboratory Task 1  \n",
    "\n",
    "<img src=\"https://i.ibb.co/XZpzMRfd/Screenshot-2025-09-13-at-2-20-16-PM.png\" width=\"1200\">\n",
    "\n",
    "**Instruction:** From the example scenario above, create additional two inquiries for each type of data analytics.  \n"
   ]
  },
  {
   "cell_type": "markdown",
   "id": "be9d1005",
   "metadata": {},
   "source": [
    "> ### Descriptive Analytics  \n",
    "- What was the total number of active players in an esports tournament last season?  \n",
    "- Which game characters were most frequently picked by players in ranked matches?  \n",
    "\n",
    "> ### Diagnostic Analytics  \n",
    "- Why did the team’s win rate drop significantly after the last game patch update?  \n",
    "- What factors contributed to a sudden decrease in average daily playtime among competitive players?  \n",
    "\n",
    "> ### Predictive Analytics  \n",
    "- Based on player performance trends, which team is most likely to reach the grand finals?  \n",
    "- Can we forecast the future popularity of certain in-game heroes or characters for the next season?  \n",
    "\n",
    "> ### Prescriptive Analytics  \n",
    "- What strategies should a professional team adopt to counter opponents who frequently use aggressive playstyles?  \n",
    "- How can a game developer adjust matchmaking rules to ensure more balanced and engaging matches?  "
   ]
  }
 ],
 "metadata": {
  "language_info": {
   "name": "python"
  }
 },
 "nbformat": 4,
 "nbformat_minor": 5
}
