{
  "cells": [
    {
      "cell_type": "markdown",
      "metadata": {
        "id": "3EkRAr2O8BgM"
      },
      "source": [
        "# Laboratory Activity 6"
      ]
    },
    {
      "cell_type": "markdown",
      "metadata": {
        "id": "o3xXmWlp8kum"
      },
      "source": [
        "Here is the given problem setup:\n",
        "\n",
        "<img src=\"https://i.postimg.cc/vMHj5gq1/image.png\" width=\"1200\">\n",
        "\n",
        "\n"
      ]
    },
    {
      "cell_type": "markdown",
      "metadata": {
        "id": "CWKw4yfm8sw5"
      },
      "source": [
        "### Understanding the Diagram Would Give Us:\n",
        "\n",
        "From the figure:\n",
        "\n",
        "> Input:\n",
        "\n",
        "- Shape = (1, 28, 28) → MNIST grayscale images.\n",
        "\n",
        "> Conv + Pooling Layers:\n",
        "\n",
        "- Conv1: kernel=3×3, stride=1, padding=1 → output channels = 32\n",
        "\n",
        "- MaxPool1: kernel=2×2, stride=2, padding=1\n",
        "\n",
        "- Conv2: kernel=3×3, stride=1, padding=1 → output channels = 64\n",
        "\n",
        "- Conv3: kernel=3×3, stride=1, padding=1 → output channels = 128\n",
        "\n",
        "- Conv4: kernel=3×3, stride=1, padding=1 → output channels = 256\n",
        "\n",
        "- MaxPool2: kernel=2×2, stride=2, padding=0\n",
        "\n",
        "> Dropout + Flatten\n",
        "\n",
        "- Dropout(p=0.2) for regularization\n",
        "\n",
        "- Flatten into a vector\n",
        "\n",
        "> Fully Connected Layers:\n",
        "\n",
        "- FC1: input=?, output=1000\n",
        "\n",
        "- FC2: input=1000, output=500\n",
        "\n",
        "- FC3: input=500, output=10 (digits 0–9)\n",
        "\n",
        "> Activations:\n",
        "\n",
        "- ReLU after every conv + fully connected (except last)\n",
        "\n",
        "- Softmax at the end for classification."
      ]
    },
    {
      "cell_type": "code",
      "execution_count": 1,
      "metadata": {
        "id": "oB25dioA799f"
      },
      "outputs": [],
      "source": [
        "# ----------------------------\n",
        "# Implementing in PyTorch\n",
        "# ----------------------------\n",
        "\n",
        "import torch\n",
        "import torch.nn as nn\n",
        "import torch.nn.functional as F"
      ]
    },
    {
      "cell_type": "code",
      "execution_count": null,
      "metadata": {
        "id": "Icy6myZr9XSi"
      },
      "outputs": [],
      "source": [
        "class CNNModel(nn.Module):\n",
        "    def __init__(self):\n",
        "        super(CNNModel, self).__init__()\n",
        "\n",
        "        # Convolutional Layers\n",
        "        self.conv1 = nn.Conv2d(in_channels=1, out_channels=32, kernel_size=3, stride=1, padding=1)\n",
        "        self.pool1 = nn.MaxPool2d(kernel_size=2, stride=2, padding=1)\n",
        "\n",
        "        self.conv2 = nn.Conv2d(in_channels=32, out_channels=64, kernel_size=3, stride=1, padding=1)\n",
        "        self.conv3 = nn.Conv2d(in_channels=64, out_channels=128, kernel_size=3, stride=1, padding=1)\n",
        "        self.conv4 = nn.Conv2d(in_channels=128, out_channels=256, kernel_size=3, stride=1, padding=1)\n",
        "        self.pool2 = nn.MaxPool2d(kernel_size=2, stride=2, padding=0)\n",
        "\n",
        "        # Dropout\n",
        "        self.dropout = nn.Dropout(p=0.2)\n",
        "\n",
        "        # Fully Connected Layers\n",
        "        # Need to compute input features to FC1 after flattening\n",
        "        self.fc1 = nn.Linear(256 * 7 * 7, 1000)  # 28x28 should shrink to 7x7 after pooling\n",
        "        self.fc2 = nn.Linear(1000, 500)\n",
        "        self.fc3 = nn.Linear(500, 10)  # 10 classes\n",
        "\n",
        "    def forward(self, x):\n",
        "        # Conv + ReLU + Pooling\n",
        "        x = F.relu(self.conv1(x))\n",
        "        x = self.pool1(x)\n",
        "\n",
        "        x = F.relu(self.conv2(x))\n",
        "        x = F.relu(self.conv3(x))\n",
        "        x = F.relu(self.conv4(x))\n",
        "        x = self.pool2(x)\n",
        "\n",
        "        # Dropout\n",
        "        x = self.dropout(x)\n",
        "\n",
        "        # Flatten\n",
        "        x = x.view(x.size(0), -1)\n",
        "\n",
        "        # Fully connected + ReLU\n",
        "        x = F.relu(self.fc1(x))\n",
        "        x = F.relu(self.fc2(x))\n",
        "        x = self.fc3(x)\n",
        "\n",
        "        # Softmax - applied in loss function dapat\n",
        "        return x\n"
      ]
    },
    {
      "cell_type": "code",
      "execution_count": null,
      "metadata": {
        "colab": {
          "base_uri": "https://localhost:8080/"
        },
        "id": "obBXdb2o9uZM",
        "outputId": "b4d5f8c6-6e04-4ba4-c02e-f3f99d54a393"
      },
      "outputs": [
        {
          "name": "stdout",
          "output_type": "stream",
          "text": [
            "torch.Size([1, 10])\n"
          ]
        }
      ],
      "source": [
        "# ----------------------------\n",
        "# Verify Architecture Created\n",
        "# ----------------------------\n",
        "\n",
        "model = CNNModel()\n",
        "x = torch.randn(1, 1, 28, 28)  # batch of 1, grayscale 28x28\n",
        "print(model(x).shape)  # expected: [1, 10]\n"
      ]
    },
    {
      "cell_type": "markdown",
      "metadata": {
        "id": "i8Mue5Og-FoX"
      },
      "source": [
        "### Integrating the CNN model into a full PyTorch training pipeline:"
      ]
    },
    {
      "cell_type": "code",
      "execution_count": null,
      "metadata": {
        "id": "_uP5khyt988z"
      },
      "outputs": [],
      "source": [
        "#import torch\n",
        "#import torch.nn as nn\n",
        "#import torch.nn.functional as F\n",
        "\n",
        "''' all imports converted in to comments\n",
        "(but are also needed in a full pipeline simulation)\n",
        "are already imported sa taas except the libraries below: '''\n",
        "\n",
        "import torch.optim as optim\n",
        "from torch.utils.data import DataLoader, random_split\n",
        "from torchvision import datasets, transforms\n",
        "import matplotlib.pyplot as plt\n",
        "import numpy as np\n",
        "import random"
      ]
    },
    {
      "cell_type": "code",
      "execution_count": null,
      "metadata": {
        "id": "9tzWXuNC-glq"
      },
      "outputs": [],
      "source": [
        "# fix seed for reproducibility\n",
        "\n",
        "def set_seed(seed=143):\n",
        "    torch.manual_seed(seed)\n",
        "    np.random.seed(seed)\n",
        "    random.seed(seed)\n",
        "\n",
        "set_seed(143)"
      ]
    },
    {
      "cell_type": "code",
      "execution_count": null,
      "metadata": {
        "colab": {
          "base_uri": "https://localhost:8080/"
        },
        "id": "D6Lnclg8-lPi",
        "outputId": "aaa52322-b816-4238-b016-08301123f3fd"
      },
      "outputs": [
        {
          "name": "stderr",
          "output_type": "stream",
          "text": [
            "100%|██████████| 9.91M/9.91M [00:00<00:00, 18.0MB/s]\n",
            "100%|██████████| 28.9k/28.9k [00:00<00:00, 488kB/s]\n",
            "100%|██████████| 1.65M/1.65M [00:00<00:00, 4.46MB/s]\n",
            "100%|██████████| 4.54k/4.54k [00:00<00:00, 8.32MB/s]\n"
          ]
        }
      ],
      "source": [
        "# ----------------------------\n",
        "# Load MNIST dataset\n",
        "# ----------------------------\n",
        "\n",
        "transform = transforms.ToTensor()\n",
        "\n",
        "train_data = datasets.MNIST(root=\"data\", train=True, download=True, transform=transform)\n",
        "test_data  = datasets.MNIST(root=\"data\", train=False, download=True, transform=transform)\n",
        "\n",
        "train_set, val_set = random_split(train_data, [50000, 10000])\n",
        "\n",
        "# Data loaders:\n",
        "batch_size = 64\n",
        "train_loader = DataLoader(train_set, batch_size=batch_size, shuffle=True)\n",
        "val_loader   = DataLoader(val_set, batch_size=batch_size, shuffle=False)\n",
        "test_loader  = DataLoader(test_data, batch_size=batch_size, shuffle=False)\n"
      ]
    },
    {
      "cell_type": "code",
      "execution_count": null,
      "metadata": {
        "id": "gEeuSGbx-zBF"
      },
      "outputs": [],
      "source": [
        "# ----------------------------\n",
        "# Define CNN Model\n",
        "# ----------------------------\n",
        "\n",
        "class CNNModel(nn.Module):\n",
        "    def __init__(self):\n",
        "        super(CNNModel, self).__init__()\n",
        "\n",
        "        self.conv1 = nn.Conv2d(1, 32, kernel_size=3, stride=1, padding=1)\n",
        "        self.pool1 = nn.MaxPool2d(2, 2, padding=1)\n",
        "\n",
        "        self.conv2 = nn.Conv2d(32, 64, kernel_size=3, stride=1, padding=1)\n",
        "        self.conv3 = nn.Conv2d(64, 128, kernel_size=3, stride=1, padding=1)\n",
        "        self.conv4 = nn.Conv2d(128, 256, kernel_size=3, stride=1, padding=1)\n",
        "        self.pool2 = nn.MaxPool2d(2, 2)\n",
        "\n",
        "        self.dropout = nn.Dropout(0.2)\n",
        "\n",
        "        self.fc1 = nn.Linear(256 * 7 * 7, 1000)\n",
        "        self.fc2 = nn.Linear(1000, 500)\n",
        "        self.fc3 = nn.Linear(500, 10)\n",
        "\n",
        "    def forward(self, x):\n",
        "        x = F.relu(self.conv1(x))\n",
        "        x = self.pool1(x)\n",
        "\n",
        "        x = F.relu(self.conv2(x))\n",
        "        x = F.relu(self.conv3(x))\n",
        "        x = F.relu(self.conv4(x))\n",
        "        x = self.pool2(x)\n",
        "\n",
        "        x = self.dropout(x)\n",
        "        x = x.view(x.size(0), -1)  # flatten\n",
        "\n",
        "        x = F.relu(self.fc1(x))\n",
        "        x = F.relu(self.fc2(x))\n",
        "        x = self.fc3(x)\n",
        "\n",
        "        return x\n"
      ]
    },
    {
      "cell_type": "code",
      "execution_count": null,
      "metadata": {
        "id": "KPjtKdur-5yZ"
      },
      "outputs": [],
      "source": [
        "# ----------------------------\n",
        "# Training Set-Up\n",
        "# ----------------------------\n",
        "\n",
        "device = torch.device(\"cuda\" if torch.cuda.is_available() else \"cpu\")\n",
        "model = CNNModel().to(device)\n",
        "\n",
        "criterion = nn.CrossEntropyLoss()  # loss for classification\n",
        "optimizer = optim.Adam(model.parameters(), lr=0.001)"
      ]
    },
    {
      "cell_type": "code",
      "execution_count": null,
      "metadata": {
        "id": "FWPOXjLR_Bh2"
      },
      "outputs": [],
      "source": [
        "# ----------------------------\n",
        "# Training Loop\n",
        "# ----------------------------\n",
        "\n",
        "def train_model(model, train_loader, val_loader, criterion, optimizer, epochs=5):\n",
        "    train_losses, val_losses, val_accs = [], [], []\n",
        "\n",
        "    for epoch in range(epochs):\n",
        "        # ---- Training ----\n",
        "        model.train()\n",
        "        running_loss = 0\n",
        "        for images, labels in train_loader:\n",
        "            images, labels = images.to(device), labels.to(device)\n",
        "\n",
        "            optimizer.zero_grad()\n",
        "            outputs = model(images)\n",
        "            loss = criterion(outputs, labels)\n",
        "            loss.backward()\n",
        "            optimizer.step()\n",
        "\n",
        "            running_loss += loss.item()\n",
        "\n",
        "        avg_train_loss = running_loss / len(train_loader)\n",
        "\n",
        "        # ---- Validation ----\n",
        "        model.eval()\n",
        "        val_loss, correct = 0, 0\n",
        "        with torch.no_grad():\n",
        "            for images, labels in val_loader:\n",
        "                images, labels = images.to(device), labels.to(device)\n",
        "                outputs = model(images)\n",
        "                loss = criterion(outputs, labels)\n",
        "                val_loss += loss.item()\n",
        "\n",
        "                preds = torch.argmax(outputs, dim=1)\n",
        "                correct += (preds == labels).sum().item()\n",
        "\n",
        "        avg_val_loss = val_loss / len(val_loader)\n",
        "        accuracy = correct / len(val_loader.dataset)\n",
        "\n",
        "        train_losses.append(avg_train_loss)\n",
        "        val_losses.append(avg_val_loss)\n",
        "        val_accs.append(accuracy)\n",
        "\n",
        "        print(f\"Epoch [{epoch+1}/{epochs}] \"\n",
        "              f\"Training Loss: {avg_train_loss:.4f} \"\n",
        "              f\"Validation Loss: {avg_val_loss:.4f} \"\n",
        "              f\"Validation Accuracy: {accuracy:.4f}\")\n",
        "\n",
        "    return train_losses, val_losses, val_accs\n"
      ]
    },
    {
      "cell_type": "code",
      "execution_count": null,
      "metadata": {
        "colab": {
          "base_uri": "https://localhost:8080/"
        },
        "id": "H6Y_jvBB_LHB",
        "outputId": "de84656b-9e2c-4dfe-99b4-1ddeef850144"
      },
      "outputs": [
        {
          "name": "stdout",
          "output_type": "stream",
          "text": [
            "Epoch [1/5] Training Loss: 0.1812 Validation Loss: 0.0547 Validation Accuracy: 0.9838\n",
            "Epoch [2/5] Training Loss: 0.0531 Validation Loss: 0.0502 Validation Accuracy: 0.9856\n",
            "Epoch [3/5] Training Loss: 0.0363 Validation Loss: 0.0392 Validation Accuracy: 0.9895\n",
            "Epoch [4/5] Training Loss: 0.0298 Validation Loss: 0.0430 Validation Accuracy: 0.9888\n",
            "Epoch [5/5] Training Loss: 0.0237 Validation Loss: 0.0391 Validation Accuracy: 0.9905\n"
          ]
        }
      ],
      "source": [
        "# ----------------------------\n",
        "# Training Loop\n",
        "# ----------------------------\n",
        "\n",
        "train_losses, val_losses, val_accs = train_model(model, train_loader, val_loader, criterion, optimizer, epochs=5)\n"
      ]
    },
    {
      "cell_type": "markdown",
      "metadata": {},
      "source": [
        "### If Error Persists on Rendered Version, see atthached image for result:\n",
        "![Epoch result](images/trainloop.png)"
      ]
    },
    {
      "cell_type": "code",
      "execution_count": null,
      "metadata": {
        "colab": {
          "base_uri": "https://localhost:8080/",
          "height": 391
        },
        "id": "2NNdsxMe_QGq",
        "outputId": "80b68b15-35fc-4fa4-e2ea-3bad58e3158a"
      },
      "outputs": [
        {
          "data": {
            "image/png": "[encoded data removed]",
            "text/plain": [
              "<Figure size 1200x400 with 2 Axes>"
            ]
          },
          "metadata": {},
          "output_type": "display_data"
        }
      ],
      "source": [
        "# ----------------------------\n",
        "# Results\n",
        "# ----------------------------\n",
        "\n",
        "plt.figure(figsize=(12,4))\n",
        "\n",
        "# Loss plot\n",
        "plt.subplot(1,2,1)\n",
        "plt.plot(train_losses, label=\"Train Loss\")\n",
        "plt.plot(val_losses, label=\"Val Loss\")\n",
        "plt.legend()\n",
        "plt.title(\"Loss per Epoch\")\n",
        "\n",
        "# Accuracy plot\n",
        "plt.subplot(1,2,2)\n",
        "plt.plot(val_accs, label=\"Val Accuracy\")\n",
        "plt.legend()\n",
        "plt.title(\"Validation Accuracy per Epoch\")\n",
        "\n",
        "plt.show()\n"
      ]
    },
    {
      "cell_type": "markdown",
      "metadata": {},
      "source": [
        "### Observations:\n",
        "\n",
        "**1. Loss per Epoch Analysis (Left Plot)**\n",
        "The loss curves indicate that the model is learning the training data very effectively but is starting to overfit.\n",
        "\n",
        "- **Train Loss (Blue Line):** The training error shows a steep, continuous decrease throughout the entire process, dropping from ≈0.18 at epoch 0 to ≈0.025 at epoch 4. This confirms the optimization process is successfully minimizing the error on the data it sees during training.\n",
        "\n",
        "- **Validation Loss (Orange Line):** The error on unseen data initially tracks well, decreasing from ≈0.055 to its minimum point of ≈0.038 at epoch 2.\n",
        "\n",
        "- **Sign of Overfitting:** After epoch 2, the Validation Loss plateaus and slightly increases (to ≈0.04 at epoch 4), while the Train Loss continues its sharp descent. This divergence between the losses is the textbook sign of overfitting, where the model is learning noise or specific details of the training set at the expense of its ability to generalize.\n",
        "\n",
        "**2. Validation Accuracy per Epoch Analysis (Right Plot)**\n",
        "The accuracy curve on the unseen data shows strong overall performance with a final peak.\n",
        "\n",
        "- **Overall Trend:** The validation accuracy increases significantly from a starting point of ≈98.38% at epoch 0 to its final peak of ≈99.05% at epoch 4.\n",
        "\n",
        "- **Instability:** The curve is not perfectly monotonic. It hits a temporary peak at epoch 2 (≈98.95%), experiences a slight dip at epoch 3 (≈98.8%), and then rebounds to its highest point at epoch 4. The dip at epoch 3 aligns with the point where the Validation Loss begins to rise, confirming a momentary degradation in generalization."
      ]
    },
    {
      "cell_type": "markdown",
      "metadata": {},
      "source": [
        "### Conclusion and Inference\n",
        "\n",
        "The model is highly accurate, surpassing 99% validation accuracy, but it is unstable and actively overfitting after epoch 2.\n",
        "\n",
        "- **Key Inference:** The ideal stopping point based purely on the validation loss would have been epoch 2, as this is where the generalization error was minimized. Although the validation accuracy ultimately peaked at epoch 4, the rising validation loss means this final performance is likely unsustainable or achieved via a less robust model."
      ]
    },
    {
      "cell_type": "code",
      "execution_count": null,
      "metadata": {
        "colab": {
          "base_uri": "https://localhost:8080/"
        },
        "id": "78z_WHOn_bo3",
        "outputId": "c39eee12-ac26-4f85-a012-ab8c1936b8f1"
      },
      "outputs": [
        {
          "name": "stdout",
          "output_type": "stream",
          "text": [
            "Test Accuracy: 0.9909\n"
          ]
        }
      ],
      "source": [
        "# ----------------------------\n",
        "# Test Model\n",
        "# ----------------------------\n",
        "\n",
        "model.eval()\n",
        "correct = 0\n",
        "with torch.no_grad():\n",
        "    for images, labels in test_loader:\n",
        "        images, labels = images.to(device), labels.to(device)\n",
        "        outputs = model(images)\n",
        "        preds = torch.argmax(outputs, dim=1)\n",
        "        correct += (preds == labels).sum().item()\n",
        "\n",
        "test_acc = correct / len(test_loader.dataset)\n",
        "print(f\"Test Accuracy: {test_acc:.4f}\")\n"
      ]
    },
    {
      "cell_type": "markdown",
      "metadata": {},
      "source": [
        "**The Test Accuracy of 0.9909 is the most important result.**\n",
        "\n",
        "- **Exceptional Generalization:** This value is slightly higher than the peak Validation Accuracy (≈0.9905). This confirms that the model did not significantly overfit to the validation set. Its ability to perform on completely new data is excellent.\n",
        "\n",
        "- **Validation Loss Misdirection:** The earlier observation that the Validation Loss was plateauing/rising after epoch 2 suggested overfitting. However, the high Test Accuracy demonstrates that while the model was technically becoming less general in terms of its error metric on the validation set, this did not translate to a meaningful decrease in its final classification accuracy on the true test set. The model's complex fit (low train loss) ultimately generalized well."
      ]
    },
    {
      "cell_type": "markdown",
      "metadata": {},
      "source": [
        "## Conclusions / Learnings\n",
        "<div style=\"border: 2px solid #4CAF50; background-color: #e8f5e9; padding: 15px; border-radius: 10px; margin-top: 10px; margin-bottom: 10px;\">\n",
        "\n",
        "The training process successfully produced an exceptionally high-performing model. The model achieved a state-of-the-art result with <strong> 99.09% accuracy </strong> on the final test set.\n",
        "\n",
        "While the loss curves indicated a risk of overfitting after epoch 2, the high and stable Test Accuracy suggests this risk did not materialize into a meaningful performance penalty on unseen data, and training up to epoch 4 was ultimately beneficial. The minor dip in validation accuracy at epoch 3 was recovered, leading to the best-performing model at the end.\n",
        "\n",
        "</div>\n"
      ]
    },
    {
      "cell_type": "markdown",
      "metadata": {
        "id": "K-YKrMO0_iOf"
      },
      "source": [
        "### Add-On: Sample Predictions"
      ]
    },
    {
      "cell_type": "code",
      "execution_count": null,
      "metadata": {
        "id": "xte1oWUZ_hll"
      },
      "outputs": [],
      "source": [
        "def show_predictions(model, loader, n=10):\n",
        "    model.eval()\n",
        "    images, labels = next(iter(loader))  # take one batch\n",
        "    images, labels = images.to(device), labels.to(device)\n",
        "\n",
        "    with torch.no_grad():\n",
        "        outputs = model(images)\n",
        "        preds = torch.argmax(outputs, dim=1)\n",
        "\n",
        "    # Move to CPU for plotting\n",
        "    images = images.cpu()\n",
        "    preds = preds.cpu()\n",
        "    labels = labels.cpu()\n",
        "\n",
        "    fig, axs = plt.subplots(1, n, figsize=(15, 2))\n",
        "    for i in range(n):\n",
        "        axs[i].imshow(images[i][0], cmap=\"gray\")\n",
        "        axs[i].axis(\"off\")\n",
        "        axs[i].set_title(f\"P:{preds[i].item()}\\nT:{labels[i].item()}\",\n",
        "                         color=(\"green\" if preds[i]==labels[i] else \"red\"))\n",
        "    plt.show()\n"
      ]
    },
    {
      "cell_type": "markdown",
      "metadata": {
        "id": "K3NXkwSm_ycz"
      },
      "source": [
        "**Note:** This will display 10 test images in a row.\n",
        "\n",
        "- **P**: is the model’s predicted label.\n",
        "\n",
        "- **T**: is the true label.\n",
        "\n",
        "- Titles are **green** if correct, **red** if it is wrong."
      ]
    },
    {
      "cell_type": "code",
      "execution_count": null,
      "metadata": {
        "colab": {
          "base_uri": "https://localhost:8080/",
          "height": 178
        },
        "id": "lCkPjkAF_nyf",
        "outputId": "88cc4540-f28d-470c-f0b3-3a92e0b9da2e"
      },
      "outputs": [
        {
          "data": {
            "image/png": "[encoded data removed]",
            "text/plain": [
              "<Figure size 1500x200 with 10 Axes>"
            ]
          },
          "metadata": {},
          "output_type": "display_data"
        }
      ],
      "source": [
        "show_predictions(model, test_loader, n=10)"
      ]
    },
    {
      "cell_type": "markdown",
      "metadata": {
        "id": "0N-gbH2QSOsm"
      },
      "source": [
        "---"
      ]
    }
  ],
  "metadata": {
    "colab": {
      "provenance": []
    },
    "kernelspec": {
      "display_name": "deep-learning",
      "language": "python",
      "name": "python3"
    },
    "language_info": {
      "codemirror_mode": {
        "name": "ipython",
        "version": 3
      },
      "file_extension": ".py",
      "mimetype": "text/x-python",
      "name": "python",
      "nbconvert_exporter": "python",
      "pygments_lexer": "ipython3",
      "version": "3.13.7"
    }
  },
  "nbformat": 4,
  "nbformat_minor": 0
}
