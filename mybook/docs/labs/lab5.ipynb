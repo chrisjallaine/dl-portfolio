{
 "cells": [
  {
   "cell_type": "markdown",
   "id": "46a8c14d-8de8-4c48-8270-f3c72928fb65",
   "metadata": {},
   "source": [
    "## LABORATORY TASK 5"
   ]
  },
  {
   "cell_type": "markdown",
   "id": "5e4959af-09aa-4d6c-aa21-30d5927c1cb5",
   "metadata": {},
   "source": [
    "**Name:** Chris Jallaine Mugot <br>\n",
    "**Section:** DS4A <br>\n",
    "**Date:** September 3, 2025"
   ]
  },
  {
   "cell_type": "markdown",
   "id": "b458e802-5d2f-4cee-bcbb-d772f10f06eb",
   "metadata": {},
   "source": [
    "---"
   ]
  },
  {
   "cell_type": "markdown",
   "id": "6b62f288-fa76-4aef-947c-4dd3b992bd2e",
   "metadata": {},
   "source": [
    "**1. Perform Standard Imports**"
   ]
  },
  {
   "cell_type": "code",
   "execution_count": 1,
   "id": "ce36b416-02ed-4c96-ac1c-132b133e1d94",
   "metadata": {},
   "outputs": [],
   "source": [
    "import numpy as np\n",
    "import torch\n",
    "import sys"
   ]
  },
  {
   "cell_type": "markdown",
   "id": "b33888a6-1b1c-4fd8-b896-4bfa437ed7d4",
   "metadata": {},
   "source": [
    "**2. Create a function called set_seed() that accepts seed: int as a parameter, this function must return nothing but just set the seed to a certain value.**"
   ]
  },
  {
   "cell_type": "code",
   "execution_count": 45,
   "id": "83a0a48e-60ce-4e33-8fec-c586224e5848",
   "metadata": {},
   "outputs": [],
   "source": [
    "def set_seed(seed: int):\n",
    "    np.random.seed(seed)\n",
    "    torch.manual_seed(seed)"
   ]
  },
  {
   "cell_type": "markdown",
   "id": "16077f61-ff3c-4bb6-8335-e1376ad631be",
   "metadata": {},
   "source": [
    "**3. Create a NumPy array called \"arr\" that contains 6 random integers between 0 (inclusive) and 5 (exclusive), call the set_seed() function and use 42 as the seed parameter.**"
   ]
  },
  {
   "cell_type": "code",
   "execution_count": 46,
   "id": "2115df93-ee5e-4d74-87eb-59b990d57bf3",
   "metadata": {},
   "outputs": [
    {
     "name": "stdout",
     "output_type": "stream",
     "text": [
      "[3 4 2 4 4 1]\n"
     ]
    }
   ],
   "source": [
    "set_seed(42)\n",
    "\n",
    "arr = np.random.randint(0, 5, size = 6)\n",
    "print(arr)"
   ]
  },
  {
   "cell_type": "markdown",
   "id": "9b5ece6f-0946-4b76-8f3c-bb9060845210",
   "metadata": {},
   "source": [
    "**4. Create a tensor \"x\" from the array above**"
   ]
  },
  {
   "cell_type": "code",
   "execution_count": 47,
   "id": "4e1f9e78-3ed5-4ff6-a789-fd0b5ba4dd02",
   "metadata": {},
   "outputs": [],
   "source": [
    "x = torch.tensor(arr)"
   ]
  },
  {
   "cell_type": "code",
   "execution_count": 48,
   "id": "9e1d930f-73d5-4a19-b3e8-2131d8aeef4a",
   "metadata": {},
   "outputs": [
    {
     "name": "stdout",
     "output_type": "stream",
     "text": [
      "tensor([3, 4, 2, 4, 4, 1], dtype=torch.int32)\n"
     ]
    }
   ],
   "source": [
    "print(x)"
   ]
  },
  {
   "cell_type": "markdown",
   "id": "34aaff36-f4d2-4b73-bea2-3f9dbe6c7021",
   "metadata": {},
   "source": [
    "**5. Change the dtype of x from int32 to int64**"
   ]
  },
  {
   "cell_type": "code",
   "execution_count": 49,
   "id": "357bc262-c175-422c-b824-9da8dc17ec7d",
   "metadata": {},
   "outputs": [
    {
     "name": "stdout",
     "output_type": "stream",
     "text": [
      "torch.int64\n"
     ]
    }
   ],
   "source": [
    "x = x.to(torch.int64)\n",
    "\n",
    "# for checking\n",
    "print(x.dtype)"
   ]
  },
  {
   "cell_type": "markdown",
   "id": "d047f13c-6a6b-4572-93ab-0835c05a2809",
   "metadata": {},
   "source": [
    "**6. Reshape x into a 3x2 tensor. <br>\n",
    "(There are several ways to do this.)**"
   ]
  },
  {
   "cell_type": "code",
   "execution_count": 50,
   "id": "8136a5b9-376c-4457-8cff-c439e8fe2b89",
   "metadata": {},
   "outputs": [
    {
     "data": {
      "text/plain": [
       "tensor([[3, 4],\n",
       "        [2, 4],\n",
       "        [4, 1]])"
      ]
     },
     "execution_count": 50,
     "metadata": {},
     "output_type": "execute_result"
    }
   ],
   "source": [
    "x = x.view(3, 2)\n",
    "x"
   ]
  },
  {
   "cell_type": "markdown",
   "id": "28f98793-950c-4761-b4ab-e31052522f69",
   "metadata": {},
   "source": [
    "**7. Return the right-hand column of tensor x**"
   ]
  },
  {
   "cell_type": "code",
   "execution_count": 51,
   "id": "7203d53e-3a7c-40d8-9425-4f829e7addbd",
   "metadata": {},
   "outputs": [
    {
     "name": "stdout",
     "output_type": "stream",
     "text": [
      "tensor([4, 4, 1])\n"
     ]
    }
   ],
   "source": [
    "right = x[:, 1]\n",
    "print(right)"
   ]
  },
  {
   "cell_type": "markdown",
   "id": "ae03865c-9505-45d1-96af-15f16b59cfdb",
   "metadata": {},
   "source": [
    "**8. Without changing x, return a tensor of square values of x. <br>**\n",
    "*There are several ways to do this.*"
   ]
  },
  {
   "cell_type": "code",
   "execution_count": 52,
   "id": "56437208-08f3-42f6-a15a-96fb38bf3892",
   "metadata": {},
   "outputs": [
    {
     "name": "stdout",
     "output_type": "stream",
     "text": [
      "tensor([[ 9, 16],\n",
      "        [ 4, 16],\n",
      "        [16,  1]])\n"
     ]
    }
   ],
   "source": [
    "squared = x**2\n",
    "print(squared)"
   ]
  },
  {
   "cell_type": "markdown",
   "id": "92ec1ddd-96e9-444a-95e4-36b386e4fba4",
   "metadata": {},
   "source": [
    "**9. Create a tensor y with the same number of elements as x, that can be matrix-multiplied with x** <br>\n",
    "*Use PyTorch directly (not NumPy) to create a tensor of random integers between 0 (inclusive) and 5 (exclusive). Use 42 as seed.* <br>\n",
    "\n",
    "Think about what shape it should have to permit matrix multiplication."
   ]
  },
  {
   "cell_type": "code",
   "execution_count": 53,
   "id": "7dd6b4aa-14a9-4968-b1c4-be21fddcbc5e",
   "metadata": {},
   "outputs": [
    {
     "name": "stdout",
     "output_type": "stream",
     "text": [
      "tensor([[2, 2, 1],\n",
      "        [4, 1, 0]])\n"
     ]
    }
   ],
   "source": [
    "set_seed(42)\n",
    "y = torch.randint(0,5, (2, 3))\n",
    "print(y)"
   ]
  },
  {
   "cell_type": "markdown",
   "id": "fe905f4e-0308-4b92-9c2b-7ed6376b4297",
   "metadata": {},
   "source": [
    "**Explanation:**"
   ]
  },
  {
   "cell_type": "markdown",
   "id": "f35db7ff-4f10-4368-be91-619ec63246fb",
   "metadata": {},
   "source": [
    "This is in explanation for why the y tensor is in 2X3 dimension instead of the same 3X2 used in our X. Our x that was previously reshaped as a 3X2 dimension tensor should be multiplied with our y now. The thing is when we are multiplying a matrix to another matrix, we need to do the dot product of rows and columns, that means that a 3X2 tensor should be multiplied to a 2X3 tensor, to work out the answer for the 1st row and 1st column multiplication. "
   ]
  },
  {
   "cell_type": "markdown",
   "id": "5bec2019-c6c5-4060-b993-fb38cc80fe2d",
   "metadata": {},
   "source": [
    "**10. Find the matrix product of x and y.**"
   ]
  },
  {
   "cell_type": "code",
   "execution_count": 54,
   "id": "b5cda758-13d0-4349-8bb4-31a1a063c3af",
   "metadata": {},
   "outputs": [
    {
     "name": "stdout",
     "output_type": "stream",
     "text": [
      "tensor([[22, 10,  3],\n",
      "        [20,  8,  2],\n",
      "        [12,  9,  4]])\n"
     ]
    }
   ],
   "source": [
    "prod = torch.matmul(x,y)\n",
    "print(prod)"
   ]
  },
  {
   "cell_type": "markdown",
   "id": "c40e90ae-f01a-4e7b-bfb4-3958fdf72aeb",
   "metadata": {},
   "source": [
    "---"
   ]
  }
 ],
 "metadata": {
  "kernelspec": {
   "display_name": "base",
   "language": "python",
   "name": "python3"
  },
  "language_info": {
   "codemirror_mode": {
    "name": "ipython",
    "version": 3
   },
   "file_extension": ".py",
   "mimetype": "text/x-python",
   "name": "python",
   "nbconvert_exporter": "python",
   "pygments_lexer": "ipython3",
   "version": "3.12.2"
  }
 },
 "nbformat": 4,
 "nbformat_minor": 5
}
