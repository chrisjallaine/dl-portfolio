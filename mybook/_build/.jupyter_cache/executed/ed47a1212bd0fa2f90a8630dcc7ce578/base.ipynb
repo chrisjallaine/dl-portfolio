{
 "cells": [
  {
   "cell_type": "code",
   "execution_count": 1,
   "id": "7aab606a",
   "metadata": {},
   "outputs": [],
   "source": [
    "# -------------------\n",
    "# Libraries\n",
    "# -------------------\n",
    "import numpy as np"
   ]
  },
  {
   "cell_type": "code",
   "execution_count": 2,
   "id": "b89f8deb",
   "metadata": {},
   "outputs": [],
   "source": [
    "def sigmoid(z):\n",
    "    return 1.0/(1.0 + np.exp(-z))"
   ]
  },
  {
   "cell_type": "code",
   "execution_count": 3,
   "id": "17867aaa",
   "metadata": {},
   "outputs": [],
   "source": [
    "def relu(x):\n",
    "    return np.maximum(0, x)"
   ]
  },
  {
   "cell_type": "code",
   "execution_count": 4,
   "id": "074ceb2d",
   "metadata": {},
   "outputs": [],
   "source": [
    "x = np.array([1.0, 0.0, 1.0])\n",
    "\n",
    "W_hidden = np.array([[0.2, -0.3],\n",
    "                     [0.4,  0.1],\n",
    "                     [-0.5, 0.2]])\n",
    "\n",
    "b_hidden = np.array([-0.4, 0.2])\n",
    "\n",
    "W_out = np.array([-0.3, -0.2])\n",
    "\n",
    "b_out = 0.1\n",
    "\n",
    "y_true = 1.0"
   ]
  },
  {
   "cell_type": "code",
   "execution_count": 5,
   "id": "54cf83b1",
   "metadata": {},
   "outputs": [],
   "source": [
    "# --------------------\n",
    "# Forward pass with ReLU\n",
    "# ----------------------\n",
    "\n",
    "Z_hidden = x.dot(W_hidden) + b_hidden  # weighted sums for hidden\n",
    "H = relu(Z_hidden)                      # ReLU activations for hidden\n",
    "Z_out = H.dot(W_out) + b_out            # output weighted sum\n",
    "y_hat = relu(Z_out)                     # ReLU output activation"
   ]
  },
  {
   "cell_type": "code",
   "execution_count": 6,
   "id": "3b2877ac",
   "metadata": {},
   "outputs": [],
   "source": [
    "#-------------\n",
    "# Check Error\n",
    "# -------------\n",
    "\n",
    "mse = 0.5 * (y_true - y_hat)**2"
   ]
  },
  {
   "cell_type": "code",
   "execution_count": 7,
   "id": "891daab9",
   "metadata": {},
   "outputs": [
    {
     "name": "stdout",
     "output_type": "stream",
     "text": [
      "Z_hidden = [-0.7  0.1]\n",
      "H (ReLU) = [0.  0.1]\n",
      "Z_out = 0.08\n",
      "y_hat (ReLU) = 0.08\n",
      "MSE = 0.4232\n"
     ]
    }
   ],
   "source": [
    "print(\"Z_hidden =\", Z_hidden)\n",
    "print(\"H (ReLU) =\", H)\n",
    "print(\"Z_out =\", Z_out)\n",
    "print(\"y_hat (ReLU) =\", y_hat)\n",
    "print(\"MSE =\", mse)"
   ]
  }
 ],
 "metadata": {
  "kernelspec": {
   "display_name": "base",
   "language": "python",
   "name": "python3"
  },
  "language_info": {
   "codemirror_mode": {
    "name": "ipython",
    "version": 3
   },
   "file_extension": ".py",
   "mimetype": "text/x-python",
   "name": "python",
   "nbconvert_exporter": "python",
   "pygments_lexer": "ipython3",
   "version": "3.12.2"
  }
 },
 "nbformat": 4,
 "nbformat_minor": 5
}