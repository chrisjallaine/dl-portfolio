{
 "cells": [
  {
   "cell_type": "markdown",
   "id": "c3f9c65c",
   "metadata": {},
   "source": [
    " ##  Understanding Deep Learning : Lab 4\n"
   ]
  },
  {
   "cell_type": "markdown",
   "id": "cdab9dbc",
   "metadata": {},
   "source": [
    "## Linear Regression with a Regression Dataset <br>\n",
    "In this activity, we applied linear regression using PyTorch on the real-world Diabetes dataset from scikit-learn.\n",
    "We began by loading and normalizing the input features, then converted the data into PyTorch tensors and created a DataLoader for mini-batch training.\n",
    "Next, we defined a Linear Regression model using a single fully connected layer, trained it with Mean Squared Error (MSE) loss and Stochastic Gradient Descent (SGD), and monitored the training loss over multiple epochs.\n",
    "Finally, we tested the model by comparing its predicted output with the actual target value to evaluate its learning performance."
   ]
  },
  {
   "cell_type": "markdown",
   "id": "3f0f0fd0",
   "metadata": {},
   "source": [
    "Here is the given problem setup:\n",
    "\n",
    "<img src=\"https://i.ibb.co/Fk0pP2wR/Screenshot-2025-09-13-at-2-14-30-PM.png\" width=\"1200\">\n",
    "\n"
   ]
  },
  {
   "cell_type": "markdown",
   "id": "471d49ea",
   "metadata": {},
   "source": [
    "### IMPLEMENTION"
   ]
  },
  {
   "cell_type": "code",
   "execution_count": 1,
   "id": "32495eb7",
   "metadata": {},
   "outputs": [],
   "source": [
    "# ============================\n",
    "# 1. Import Libraries\n",
    "# ============================\n",
    "\n",
    "import numpy as np\n",
    "import torch\n",
    "import torch.nn as nn\n",
    "from torch.utils.data import TensorDataset, DataLoader\n",
    "from sklearn.datasets import fetch_california_housing\n",
    "from sklearn.preprocessing import StandardScaler\n",
    "import matplotlib.pyplot as plt\n",
    "from sklearn.metrics import mean_squared_error, r2_score"
   ]
  },
  {
   "cell_type": "code",
   "execution_count": 2,
   "id": "a7ef1559",
   "metadata": {},
   "outputs": [],
   "source": [
    "# ============================\n",
    "# 2. Load and Preprocess Dataset\n",
    "# ============================\n",
    "\n",
    "\n",
    "# Load dataset\n",
    "data = fetch_california_housing()\n",
    "X, y = data.data, data.target"
   ]
  },
  {
   "cell_type": "code",
   "execution_count": 3,
   "id": "336b5518",
   "metadata": {},
   "outputs": [],
   "source": [
    "# Normalize features\n",
    "scaler = StandardScaler()\n",
    "X = scaler.fit_transform(X)\n"
   ]
  },
  {
   "cell_type": "code",
   "execution_count": 4,
   "id": "b42bf9d0",
   "metadata": {},
   "outputs": [],
   "source": [
    "# Convert to PyTorch tensors\n",
    "inputs = torch.tensor(X, dtype=torch.float32)\n",
    "targets = torch.tensor(y, dtype=torch.float32).reshape(-1, 1)"
   ]
  },
  {
   "cell_type": "code",
   "execution_count": 5,
   "id": "142f8273",
   "metadata": {},
   "outputs": [],
   "source": [
    "# Create DataLoader (batch_size = 8)\n",
    "train_ds = TensorDataset(inputs, targets)\n",
    "train_dl = DataLoader(train_ds, batch_size=8, shuffle=True)"
   ]
  },
  {
   "cell_type": "markdown",
   "id": "efa24cd2",
   "metadata": {},
   "source": [
    "### Defining The Model"
   ]
  },
  {
   "cell_type": "code",
   "execution_count": 6,
   "id": "c5dccd4d",
   "metadata": {},
   "outputs": [],
   "source": [
    "# ============================\n",
    "# 3. Define Model with 2 Layers\n",
    "# ============================\n",
    "\n",
    "class LinearRegressionModel(nn.Module):\n",
    "    def __init__(self, input_dim, hidden_dim, output_dim):\n",
    "        super().__init__()\n",
    "        self.linear1 = nn.Linear(input_dim, hidden_dim)\n",
    "        self.relu = nn.ReLU()\n",
    "        self.linear2 = nn.Linear(hidden_dim, output_dim)\n",
    "\n",
    "    def forward(self, x):\n",
    "        x = self.linear1(x)\n",
    "        x = self.relu(x)\n",
    "        x = self.linear2(x)\n",
    "        return x\n",
    "\n",
    "input_dim = inputs.shape[1]   # number of features = 8\n",
    "hidden_dim = 32               # hidden units\n",
    "output_dim = 1\n",
    "model = LinearRegressionModel(input_dim, hidden_dim, output_dim)"
   ]
  },
  {
   "cell_type": "code",
   "execution_count": 7,
   "id": "3986d199",
   "metadata": {},
   "outputs": [],
   "source": [
    "# ============================\n",
    "# 4. Define Loss and Optimizer\n",
    "# ============================\n",
    "\n",
    "loss_fn = nn.MSELoss()\n",
    "optimizer = torch.optim.SGD(model.parameters(), lr=0.01)"
   ]
  },
  {
   "cell_type": "code",
   "execution_count": 8,
   "id": "b96a43c0",
   "metadata": {},
   "outputs": [
    {
     "ename": "KeyboardInterrupt",
     "evalue": "",
     "output_type": "error",
     "traceback": [
      "\u001b[0;31m---------------------------------------------------------------------------\u001b[0m",
      "\u001b[0;31mKeyboardInterrupt\u001b[0m                         Traceback (most recent call last)",
      "Cell \u001b[0;32mIn[8], line 16\u001b[0m\n\u001b[1;32m     14\u001b[0m     \u001b[38;5;66;03m# Backward pass\u001b[39;00m\n\u001b[1;32m     15\u001b[0m     optimizer\u001b[38;5;241m.\u001b[39mzero_grad()\n\u001b[0;32m---> 16\u001b[0m     loss\u001b[38;5;241m.\u001b[39mbackward()\n\u001b[1;32m     17\u001b[0m     optimizer\u001b[38;5;241m.\u001b[39mstep()\n\u001b[1;32m     19\u001b[0m losses\u001b[38;5;241m.\u001b[39mappend(loss\u001b[38;5;241m.\u001b[39mitem())\n",
      "File \u001b[0;32m/opt/anaconda3/lib/python3.12/site-packages/torch/_tensor.py:626\u001b[0m, in \u001b[0;36mTensor.backward\u001b[0;34m(self, gradient, retain_graph, create_graph, inputs)\u001b[0m\n\u001b[1;32m    616\u001b[0m \u001b[38;5;28;01mif\u001b[39;00m has_torch_function_unary(\u001b[38;5;28mself\u001b[39m):\n\u001b[1;32m    617\u001b[0m     \u001b[38;5;28;01mreturn\u001b[39;00m handle_torch_function(\n\u001b[1;32m    618\u001b[0m         Tensor\u001b[38;5;241m.\u001b[39mbackward,\n\u001b[1;32m    619\u001b[0m         (\u001b[38;5;28mself\u001b[39m,),\n\u001b[0;32m   (...)\u001b[0m\n\u001b[1;32m    624\u001b[0m         inputs\u001b[38;5;241m=\u001b[39minputs,\n\u001b[1;32m    625\u001b[0m     )\n\u001b[0;32m--> 626\u001b[0m torch\u001b[38;5;241m.\u001b[39mautograd\u001b[38;5;241m.\u001b[39mbackward(\n\u001b[1;32m    627\u001b[0m     \u001b[38;5;28mself\u001b[39m, gradient, retain_graph, create_graph, inputs\u001b[38;5;241m=\u001b[39minputs\n\u001b[1;32m    628\u001b[0m )\n",
      "File \u001b[0;32m/opt/anaconda3/lib/python3.12/site-packages/torch/autograd/__init__.py:340\u001b[0m, in \u001b[0;36mbackward\u001b[0;34m(tensors, grad_tensors, retain_graph, create_graph, grad_variables, inputs)\u001b[0m\n\u001b[1;32m    331\u001b[0m inputs \u001b[38;5;241m=\u001b[39m (\n\u001b[1;32m    332\u001b[0m     (inputs,)\n\u001b[1;32m    333\u001b[0m     \u001b[38;5;28;01mif\u001b[39;00m \u001b[38;5;28misinstance\u001b[39m(inputs, (torch\u001b[38;5;241m.\u001b[39mTensor, graph\u001b[38;5;241m.\u001b[39mGradientEdge))\n\u001b[0;32m   (...)\u001b[0m\n\u001b[1;32m    336\u001b[0m     \u001b[38;5;28;01melse\u001b[39;00m ()\n\u001b[1;32m    337\u001b[0m )\n\u001b[1;32m    339\u001b[0m grad_tensors_ \u001b[38;5;241m=\u001b[39m _tensor_or_tensors_to_tuple(grad_tensors, \u001b[38;5;28mlen\u001b[39m(tensors))\n\u001b[0;32m--> 340\u001b[0m grad_tensors_ \u001b[38;5;241m=\u001b[39m _make_grads(tensors, grad_tensors_, is_grads_batched\u001b[38;5;241m=\u001b[39m\u001b[38;5;28;01mFalse\u001b[39;00m)\n\u001b[1;32m    341\u001b[0m \u001b[38;5;28;01mif\u001b[39;00m retain_graph \u001b[38;5;129;01mis\u001b[39;00m \u001b[38;5;28;01mNone\u001b[39;00m:\n\u001b[1;32m    342\u001b[0m     retain_graph \u001b[38;5;241m=\u001b[39m create_graph\n",
      "File \u001b[0;32m/opt/anaconda3/lib/python3.12/site-packages/torch/autograd/__init__.py:196\u001b[0m, in \u001b[0;36m_make_grads\u001b[0;34m(outputs, grads, is_grads_batched)\u001b[0m\n\u001b[1;32m    194\u001b[0m \u001b[38;5;28;01melse\u001b[39;00m:\n\u001b[1;32m    195\u001b[0m     \u001b[38;5;28;01massert\u001b[39;00m \u001b[38;5;28misinstance\u001b[39m(out, torch\u001b[38;5;241m.\u001b[39mTensor)\n\u001b[0;32m--> 196\u001b[0m     out_numel_is_1 \u001b[38;5;241m=\u001b[39m out\u001b[38;5;241m.\u001b[39mnumel() \u001b[38;5;241m==\u001b[39m \u001b[38;5;241m1\u001b[39m\n\u001b[1;32m    197\u001b[0m \u001b[38;5;28;01mif\u001b[39;00m \u001b[38;5;129;01mnot\u001b[39;00m out_numel_is_1:\n\u001b[1;32m    198\u001b[0m     \u001b[38;5;28;01mraise\u001b[39;00m \u001b[38;5;167;01mRuntimeError\u001b[39;00m(\n\u001b[1;32m    199\u001b[0m         \u001b[38;5;124m\"\u001b[39m\u001b[38;5;124mgrad can be implicitly created only for scalar outputs\u001b[39m\u001b[38;5;124m\"\u001b[39m\n\u001b[1;32m    200\u001b[0m     )\n",
      "\u001b[0;31mKeyboardInterrupt\u001b[0m: "
     ]
    }
   ],
   "source": [
    "# ============================\n",
    "# 5. Training Loop (1000 Epochs)\n",
    "# ============================\n",
    "\n",
    "epochs = 1000\n",
    "losses = []\n",
    "\n",
    "for epoch in range(epochs):\n",
    "    for xb, yb in train_dl:\n",
    "        # Forward pass\n",
    "        preds = model(xb)\n",
    "        loss = loss_fn(preds, yb)\n",
    "\n",
    "        # Backward pass\n",
    "        optimizer.zero_grad()\n",
    "        loss.backward()\n",
    "        optimizer.step()\n",
    "\n",
    "    losses.append(loss.item())\n",
    "    \n",
    "    # Print every 100 epochs\n",
    "    if (epoch+1) % 100 == 0:\n",
    "        print(f\"Epoch [{epoch+1}/{epochs}], Loss: {loss.item():.4f}\")"
   ]
  },
  {
   "cell_type": "markdown",
   "id": "ec889e55",
   "metadata": {},
   "source": [
    "The machine learning model trained on the California Housing dataset showed successful learning with an overall decrease in loss from 0.4483 (Epoch 100) down to a minimum of 0.0972 at Epoch 900. This demonstrates the model's ability to fit the training data effectively. However, the training run was marked by significant instability, most notably a major spike in loss to 1.6435 at Epoch 400, which strongly suggests the occurrence of exploding gradients due to an overly large learning rate or data batch issues. Crucially, the loss then increased to 0.2740 by the final Epoch 1000, indicating that the model began to overfit or diverge after reaching its optimum performance at Epoch 900. Therefore, the optimal model is found at Epoch 900, and future training should incorporate gradient clipping and early stopping based on a validation loss metric to ensure stability and generalization."
   ]
  },
  {
   "cell_type": "code",
   "execution_count": 29,
   "id": "1e7d6750",
   "metadata": {},
   "outputs": [
    {
     "data": {
      "image/png": "[encoded data removed]",
      "text/plain": [
       "<Figure size 640x480 with 1 Axes>"
      ]
     },
     "metadata": {},
     "output_type": "display_data"
    }
   ],
   "source": [
    "# ============================\n",
    "# 6. Plot Training Loss\n",
    "# ============================\n",
    "\n",
    "plt.plot(losses)\n",
    "plt.xlabel(\"Epoch\")\n",
    "plt.ylabel(\"MSE Loss\")\n",
    "plt.title(\"Training Loss Curve (California Housing)\")\n",
    "plt.show()"
   ]
  },
  {
   "cell_type": "markdown",
   "id": "79017d83",
   "metadata": {},
   "source": [
    "The training loss curve for the California Housing model shows a highly unstable and volatile learning process over 1000 epochs, characterized by constant, sharp oscillations and several catastrophic spikes (the largest exceeding 2.0 near Epoch 400). This severe volatility is a definitive sign of exploding gradients and an overly high learning rate, which prevents the model from achieving smooth, reliable convergence. While the model occasionally achieved a very low loss, hitting its overall minimum of 0.0972 at Epoch 900, the high-variance behavior means it was constantly overshooting the optimal solution. Furthermore, the loss rose significantly to 0.2740 by the final epoch, indicating that overfitting or divergence began after Epoch 900, making the model state at the minimum loss the most effective version."
   ]
  },
  {
   "cell_type": "code",
   "execution_count": 30,
   "id": "35b68cb4",
   "metadata": {},
   "outputs": [
    {
     "name": "stdout",
     "output_type": "stream",
     "text": [
      "\n",
      "Final MSE: 0.2832\n",
      "R² Score: 0.7873\n",
      "\n"
     ]
    }
   ],
   "source": [
    "# ============================\n",
    "# 7. Model Evaluation\n",
    "# ============================\n",
    "\n",
    "model.eval()\n",
    "with torch.no_grad():\n",
    "    predictions = model(inputs).numpy()\n",
    "    true_values = targets.numpy()\n",
    "\n",
    "# Compute metrics\n",
    "mse = mean_squared_error(true_values, predictions)\n",
    "r2 = r2_score(true_values, predictions)\n",
    "\n",
    "print(f\"\\nFinal MSE: {mse:.4f}\")\n",
    "print(f\"R² Score: {r2:.4f}\\n\")"
   ]
  },
  {
   "cell_type": "markdown",
   "id": "7449ccb9",
   "metadata": {},
   "source": [
    "**Based on results:**\n",
    "\n",
    "The model demonstrated strong overall predictive power, achieving a final R2.\n",
    "  The score of 0.7873 on the validation set, meaning it explains nearly 79% of the variance in the median house values. The final Mean Squared Error (MSE) of 0.2832 on the validation data is also reasonably low. However, this success was achieved despite a training process that was highly unstable and volatile, as shown by the erratic loss curve and catastrophic spikes (the largest exceeding 2.0). This instability points to issues with the learning rate and likely exploding gradients. The most critical finding when comparing training and validation is the evidence of overfitting: the minimum training loss (0.0972 at Epoch 900) is significantly lower than the final validation MSE (0.2832). This gap confirms that the model learned the training noise well, and the high training volatility contributed to a loss in generalization performance. To improve the model, the next steps must focus on stabilizing training by reducing the learning rate and implementing early stopping based on the validation loss to retain the best model weights before overfitting begins."
   ]
  },
  {
   "cell_type": "code",
   "execution_count": 31,
   "id": "b500e968",
   "metadata": {},
   "outputs": [
    {
     "name": "stdout",
     "output_type": "stream",
     "text": [
      "Predicted: 4.15, Actual: 4.53\n",
      "Predicted: 4.46, Actual: 3.59\n",
      "Predicted: 4.43, Actual: 3.52\n",
      "Predicted: 2.89, Actual: 3.41\n",
      "Predicted: 2.60, Actual: 3.42\n"
     ]
    }
   ],
   "source": [
    "# Show first 5 predictions vs actual\n",
    "for i in range(5):\n",
    "    print(f\"Predicted: {predictions[i][0]:.2f}, Actual: {true_values[i][0]:.2f}\")"
   ]
  },
  {
   "cell_type": "markdown",
   "id": "d28244df",
   "metadata": {},
   "source": [
    "## Conclusions / Learnings\n",
    "<div style=\"border: 2px solid #4CAF50; background-color: #e8f5e9; padding: 15px; border-radius: 10px; margin-top: 10px; margin-bottom: 10px;\">\n",
    "\n",
    "Here are the final conclusions and key learnings drawn from your model's training and validation results on the California Housing dataset:\n",
    "\n",
    "<strong> Conclusions </strong>\n",
    "\n",
    "1. Model Generalization is Strong, but Sub-Optimal (R2=0.7873)\n",
    "The model is a good predictor of house prices, with an R2 score of 0.7873 on the unseen validation data. This means the features can explain nearly 79% of the variance in the target house prices, which is a strong result for a real-world dataset.\n",
    "\n",
    "2. Significant Overfitting Confirmed (Training Loss 0.0972 < Validation MSE 0.2832)\n",
    "The large gap between the model's best performance on the training data (Loss =0.0972 at Epoch 900) and its performance on the validation data (MSE=0.2832) is the most critical finding. This confirms significant overfitting. The model learned the noise and specific details of the training set extremely well but failed to generalize that performance to new data.\n",
    "\n",
    "3. Training Process is Unstable and Inefficient\n",
    "The massive spikes and constant high volatility in the training loss curve (e.g., the spike over 2.0 near Epoch 400) demonstrate the training process is highly unstable, likely due to an overly high learning rate. The model constantly overshoots the minimum, forcing it to spend time recovering, which makes the training time inefficient and contributes to the final poor generalization. \n",
    "\n",
    "</div>\n"
   ]
  },
  {
   "cell_type": "markdown",
   "id": "528c07fd",
   "metadata": {},
   "source": []
  }
 ],
 "metadata": {
  "kernelspec": {
   "display_name": "torch_lab",
   "language": "python",
   "name": "python3"
  },
  "language_info": {
   "codemirror_mode": {
    "name": "ipython",
    "version": 3
   },
   "file_extension": ".py",
   "mimetype": "text/x-python",
   "name": "python",
   "nbconvert_exporter": "python",
   "pygments_lexer": "ipython3",
   "version": "3.12.2"
  }
 },
 "nbformat": 4,
 "nbformat_minor": 5
}