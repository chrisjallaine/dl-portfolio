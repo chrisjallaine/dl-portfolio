{
 "cells": [
  {
   "cell_type": "markdown",
   "id": "555f48c2",
   "metadata": {},
   "source": [
    " ##  Understanding Deep Learning : Lab 2\n"
   ]
  },
  {
   "cell_type": "markdown",
   "id": "d12bb0a7",
   "metadata": {},
   "source": [
    "## Feedforward Neural Network <br>\n",
    "The feedforward neural network is one of the most basic artificial neural networks. In this ANN, the data or the input provided travels in a single direction. It enters into the ANN through the input layer and exits through the output layer while hidden layers may or may not exist. So the feedforward neural network has a front-propagated wave only and usually does not have backpropagation."
   ]
  },
  {
   "cell_type": "markdown",
   "id": "0a0cc229",
   "metadata": {},
   "source": [
    "Here is the given problem setup:\n",
    "\n",
    "<img src=\"https://i.ibb.co/kVVB48ry/Screenshot-2025-09-13-at-1-11-52-PM.png\" width=\"1200\">\n",
    "\n"
   ]
  },
  {
   "cell_type": "markdown",
   "id": "9a861482",
   "metadata": {},
   "source": [
    "#### IMPLEMENTATION:"
   ]
  },
  {
   "cell_type": "code",
   "execution_count": 1,
   "id": "7aab606a",
   "metadata": {},
   "outputs": [
    {
     "ename": "ModuleNotFoundError",
     "evalue": "No module named 'numpy'",
     "output_type": "error",
     "traceback": [
      "\u001b[31m---------------------------------------------------------------------------\u001b[39m",
      "\u001b[31mModuleNotFoundError\u001b[39m                       Traceback (most recent call last)",
      "\u001b[36mCell\u001b[39m\u001b[36m \u001b[39m\u001b[32mIn[1]\u001b[39m\u001b[32m, line 4\u001b[39m\n\u001b[32m      1\u001b[39m \u001b[38;5;66;03m# -------------------\u001b[39;00m\n\u001b[32m      2\u001b[39m \u001b[38;5;66;03m# Libraries\u001b[39;00m\n\u001b[32m      3\u001b[39m \u001b[38;5;66;03m# -------------------\u001b[39;00m\n\u001b[32m----> \u001b[39m\u001b[32m4\u001b[39m \u001b[38;5;28;01mimport\u001b[39;00m\u001b[38;5;250m \u001b[39m\u001b[34;01mnumpy\u001b[39;00m\u001b[38;5;250m \u001b[39m\u001b[38;5;28;01mas\u001b[39;00m\u001b[38;5;250m \u001b[39m\u001b[34;01mnp\u001b[39;00m\n",
      "\u001b[31mModuleNotFoundError\u001b[39m: No module named 'numpy'"
     ]
    }
   ],
   "source": [
    "# -------------------\n",
    "# Libraries\n",
    "# -------------------\n",
    "import numpy as np"
   ]
  },
  {
   "cell_type": "code",
   "execution_count": 2,
   "id": "b89f8deb",
   "metadata": {},
   "outputs": [],
   "source": [
    "def sigmoid(z):\n",
    "    return 1.0/(1.0 + np.exp(-z))"
   ]
  },
  {
   "cell_type": "code",
   "execution_count": 7,
   "id": "17867aaa",
   "metadata": {},
   "outputs": [],
   "source": [
    "def relu(x):\n",
    "    return np.maximum(0, x)"
   ]
  },
  {
   "cell_type": "code",
   "execution_count": 5,
   "id": "074ceb2d",
   "metadata": {},
   "outputs": [],
   "source": [
    "x = np.array([1.0, 0.0, 1.0])\n",
    "\n",
    "W_hidden = np.array([[0.2, -0.3],\n",
    "                     [0.4,  0.1],\n",
    "                     [-0.5, 0.2]])\n",
    "\n",
    "b_hidden = np.array([-0.4, 0.2])\n",
    "\n",
    "W_out = np.array([-0.3, -0.2])\n",
    "\n",
    "b_out = 0.1\n",
    "\n",
    "y_true = 1.0"
   ]
  },
  {
   "cell_type": "code",
   "execution_count": 8,
   "id": "54cf83b1",
   "metadata": {},
   "outputs": [],
   "source": [
    "# --------------------\n",
    "# Forward pass with ReLU\n",
    "# ----------------------\n",
    "\n",
    "Z_hidden = x.dot(W_hidden) + b_hidden  # weighted sums for hidden\n",
    "H = relu(Z_hidden)                      # ReLU activations for hidden\n",
    "Z_out = H.dot(W_out) + b_out            # output weighted sum\n",
    "y_hat = relu(Z_out)                     # ReLU output activation"
   ]
  },
  {
   "cell_type": "code",
   "execution_count": 10,
   "id": "3b2877ac",
   "metadata": {},
   "outputs": [],
   "source": [
    "#-------------\n",
    "# Check Error\n",
    "# -------------\n",
    "\n",
    "mse = 0.5 * (y_true - y_hat)**2"
   ]
  },
  {
   "cell_type": "markdown",
   "id": "0990586b",
   "metadata": {},
   "source": [
    "### Results"
   ]
  },
  {
   "cell_type": "code",
   "execution_count": 11,
   "id": "891daab9",
   "metadata": {},
   "outputs": [
    {
     "name": "stdout",
     "output_type": "stream",
     "text": [
      "Z_hidden = [-0.7  0.1]\n",
      "H (ReLU) = [0.  0.1]\n",
      "Z_out = 0.08\n",
      "y_hat (ReLU) = 0.08\n",
      "MSE = 0.4232\n"
     ]
    }
   ],
   "source": [
    "print(\"Z_hidden =\", Z_hidden)\n",
    "print(\"H (ReLU) =\", H)\n",
    "print(\"Z_out =\", Z_out)\n",
    "print(\"y_hat (ReLU) =\", y_hat)\n",
    "print(\"MSE =\", mse)"
   ]
  },
  {
   "cell_type": "markdown",
   "id": "07095372",
   "metadata": {},
   "source": [
    "## Conclusion / Learnings\n",
    "<div style=\"border: 2px solid #4CAF50; background-color: #e8f5e9; padding: 15px; border-radius: 10px; margin-top: 10px; margin-bottom: 10px;\">\n",
    "In this activity, we performed a <stong>single forward pass</strong> on a simple feedforward neural network.  \n",
    "\n",
    "### Key Takeaways:\n",
    "- We computed the <strong>weighted sums</strong> of inputs and added biases for the hidden layer.\n",
    "- We applied an <strong>activation function</strong>(ReLU) to introduce non-linearity.\n",
    "- Using the hidden layer outputs, we calculated the <stong>final network output</strong>.\n",
    "- We compared the predicted output against the actual target using <strong>Mean Squared Error (MSE)</strong>.\n",
    "- This exercise showed the <strong>step-by-step mechanics</strong> of how inputs are transformed into outputs in a neural network.\n",
    "\n",
    "### Insight:\n",
    "This hands-on example reinforces the flow of data in a neural network:\n",
    "<strong>Input → Weighted Sum + Bias → Activation → Output → Error Calculation.</strong>\n",
    "It demonstrates how each layer contributes to the network’s prediction and how we measure its performance.\n",
    "\n",
    "</div>"
   ]
  }
 ],
 "metadata": {
  "kernelspec": {
   "display_name": "base",
   "language": "python",
   "name": "python3"
  },
  "language_info": {
   "codemirror_mode": {
    "name": "ipython",
    "version": 3
   },
   "file_extension": ".py",
   "mimetype": "text/x-python",
   "name": "python",
   "nbconvert_exporter": "python",
   "pygments_lexer": "ipython3",
   "version": "3.13.7"
  }
 },
 "nbformat": 4,
 "nbformat_minor": 5
}